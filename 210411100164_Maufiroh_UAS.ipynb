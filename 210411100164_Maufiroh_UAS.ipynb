{
 "cells": [
  {
   "cell_type": "markdown",
   "id": "9eec1091",
   "metadata": {},
   "source": [
    "**NAMA : MAUFIROH |**\n",
    "**NIM : 210411100164 |**\n",
    "**KELAS : METODE STATISTIKA D**"
   ]
  },
  {
   "cell_type": "markdown",
   "id": "969b1f4d",
   "metadata": {},
   "source": [
    "# Estimasi Rata-Rata, Standard Deviasi, Skewness, dan Kurtosis\n",
    "\n",
    "# Estimasi Rata-Rata\n",
    "\n",
    "Interval estimasi adalah selompok nilai statistik sampel dalam intervaltertentu yang dapat digunakan untuk melakukan estimasi terhadap parameter populasi dengan harapan bahwa nilai parameter populasi terletak didalam intervaltersebut (Budiarto, 2001, p. 162.\n",
    "\n",
    "Rumus :\n",
    "Rata-rata (xbar)-t(a/2) x s/√𝑛 < 𝜇 < Rata-rata (xbar) + t(a/2) x s/√𝑛\n",
    "\n",
    "xbar = rata-rata s = standard deviasi n = jumlah sampel\n",
    "\n",
    "# Standard Deviasi\n",
    "\n",
    "Standar deviasi dalam buku Statistika Hospitalitas diartikan sebagai ukuran sebaran data dalam disiplin statistik yang juga dikenal sebagai simpangan baku. Standar deviasi juga bisa diartikan sebagai akar varian sebaran data.\n",
    "\n",
    "Sementara itu, Investopedia menyebutkan, standar deviasi adalah nilai statistik yang digunakan untuk menentukan kedekatan sampel statistik dengan rata-rata sebuah data. Semakin tinggi nilai standar deviasi maka semakin lebar pula rentang variasi datanya.\n",
    "\n",
    "Dengan demikian, standar deviasi bisa memberikan gambaran gap antara nilai sampel terhadap rata-ratanya. Rumus standar deviasi dipakai untuk menanalisis apakah sampel bisa mewakili populasi dalam penelitian. Standar deviasi juga bisa menggambarkan kualitas data sampel yang didapatkan.\n",
    "\n",
    "Rumus standar deviasi biasa disebut dengan simpangan baku atau dengan simbol σ maupun S. Untuk menentukan standar deviasi diawali dengan menghitung nilai rata-rata dari semua titik data.\n",
    "\n",
    "# Skewness (Kemiringan)\n",
    "\n",
    "Kemencengan atau kecondongan (skewness) adalah tingkat ketidaksimetrisan atau kejauhan simetri dari sebuah distribusi. Skewness diartikan sebagai kemiringan distribusi data. Sebuah distribusi yang tidak simetris akan memiliki rata-rata, median, dan modus yang tidak sama besarnya sehingga distribusi akan terkonsentrasi pada salah satu sisi dan kurvanya akan menceng. Ukuran kemiringan kurva adalah derajat atau ukuran dari ketidaksimetrian suatu distribusi data. Nilai skewness (ukuran kemiringan) menunjukkan data normal ketika nilai-nilai tersebut berada di antara rentang nilai -2 sampai dengan 2. Kurva positif apabila rata-rata hitung > modus/median. Kurva negative apabila rata-rata hitung < modus/media. Jika distribusi memiliki ekor yang lebih panjang ke kanan daripada yang ke kiri maka distribusi disebut menceng ke kanan atau memiliki kemencengan positif. Sebaliknya, jika distribusi memiliki ekor yang lebih panjang ke kiri daripada yang ke kanan maka distribusi disebut menceng ke kiri atau memiliki kemencengan negatif. Berikut ini gambar kurva dari distribusi yang menceng ke kanan (menceng positif) dan menceng ke kiri (menceng negatif) (Ghozali, 2016).\n",
    "\n",
    "Kriteria untuk mengetahui model distribusi dari koefisien kemiringan :\n",
    "\n",
    "- Jika koefisien kemiringan <nol, maka bentuk distribusinya negative (ekor bagian kiri lebih Panjang).\n",
    "- Jika koefisien kemiringan = nol, maka bentuk distribusinya simetrik.\n",
    "- Jika koefisien kemiringan > nol, maka bentuk distribusinya positif (ekor bagian kanan lebih Panjang).\n",
    "\n",
    "# Kurtosis (Keruncingan)\n",
    "\n",
    "Keruncingan disebut juga ketinggian kurva. Keruncingan atau kurtosis adalah tingkat kepuncakan dari sebuah distribusi yang biasanya diambil secararelatif terhadap suatu distribusi normal. Rata-rata dan ukuran penyebaran dapat menggambarkan distribusi data tetapi tidak cukup untuk menggambarkan sifat distribusi. Untuk dapat menggambarkan karakteristik dari suatu distribusi data, kita menggunakan konsep-konsep yang dikenal sebagai kemiringan (skewness) dan keruncingan (kurtosis). Ukuran keruncingan (Kurtosis) adalah derajat kepuncakan dari suatu distribusi, biasanya diambil relative terhadap distribusi normal. Andi Supangat (2007: 126) mengatakan bahwa tingkat keruncingan dari suatu kurva (kurtosis) merupakan besaran untuk menentukan jenis kurva (runcing, normal, atau datar). Kurtosis (ketinggian kurva) pada distribusi frekuensi di bagi dalam tiga bagian yaitu (1) leptokurtis (sangat runcing), mesokurtis (keruncingan sedang) dan platykurtis (kurva datar).\n",
    "\n",
    "Kriteria untuk mengetahui model distribusi dari koefisien kurtosis sebagai berikut :\n",
    "\n",
    "- Jika koefisien kurang dari 3 maka distribusinya adalah platikurtik\n",
    "- Jika koefisien kurtosis sama dengan 3 maka distribusinya adalah mesokurtic\n",
    "- Jika koefisien kurtosis lebih dari 3 maka distribusinya adalah leptokurtic."
   ]
  },
  {
   "cell_type": "code",
   "execution_count": 1,
   "id": "13e37bd5",
   "metadata": {},
   "outputs": [
    {
     "name": "stdout",
     "output_type": "stream",
     "text": [
      "Standar Deviasi adalah:  7.119691004531026\n"
     ]
    }
   ],
   "source": [
    "#Program Standard Deviasi\n",
    "def standar_deviasi(data) :\n",
    "    jumlah=0\n",
    "    for i in range (len(data)):\n",
    "        jumlah+=data[i]\n",
    "        \n",
    "    rata_rata=jumlah/len(data)\n",
    "    sigma=0\n",
    "    for i in range (len(data)):\n",
    "        hitung=(data[i]-rata_rata)**2\n",
    "        sigma+=hitung\n",
    "    pembagianN=sigma/len(data)\n",
    "    cariStandar_Deviasi=pembagianN**0.5\n",
    "    print(\"Standar Deviasi adalah: \", cariStandar_Deviasi)\n",
    "    \n",
    "data=[50,58,43,64,47,50,56,47,60,64]\n",
    "standar_deviasi(data)"
   ]
  },
  {
   "cell_type": "code",
   "execution_count": 2,
   "id": "b335a5d1",
   "metadata": {},
   "outputs": [
    {
     "data": {
      "text/plain": [
       "0.08176290963037283"
      ]
     },
     "execution_count": 2,
     "metadata": {},
     "output_type": "execute_result"
    }
   ],
   "source": [
    "from scipy.stats import skew\n",
    "data = [50,58,43,64,47,50,56,47,60,64]\n",
    "skew(data)"
   ]
  },
  {
   "cell_type": "code",
   "execution_count": 3,
   "id": "3ab6ec3d",
   "metadata": {},
   "outputs": [
    {
     "data": {
      "text/plain": [
       "-1.380579722068635"
      ]
     },
     "execution_count": 3,
     "metadata": {},
     "output_type": "execute_result"
    }
   ],
   "source": [
    "from scipy.stats import kurtosis\n",
    "\n",
    "data = [50,58,43,64,47,50,56,47,60,64]\n",
    "kurtosis(data)"
   ]
  },
  {
   "cell_type": "markdown",
   "id": "c8118162",
   "metadata": {},
   "source": [
    "# KNN Regresi\n",
    "\n",
    "K-Nearest Neighbor merupakan metode Supervised Learning untuk mengelompokkan data pembelajaran terhadap objek dengan berdasarkan tetangga terdekat atau jarak yang paling dekat dengan objek . Tujuan dari Algoritma ini yaitu untuk mengelompokkan objek baru berdasarkan atribut dan sample-sample (Training Sample)\n",
    "\n",
    "Algoritma k- Nearest Neighbor menggunakan klasifikasi ketetanggaan (neighbor) sebagai nilai prediksi dari query instance yang baru. Algoritma ini sederhana, bekerja berdasarkan jarak terpendek dari query instance ke training sample untuk menentukan ketetanggaannya\n",
    "\n",
    "Kelebihan Algoritma K-Nearest Neighbor Lebih efektif pada data latihnya besar Mudah dipahami dan di Implementasikan Non-linear Karena algoritma K-NN bersifat non-parametik. Menghasilkan data yang lebih akurat Kekurangan Algoritma K-Nearest Neighbor Harus menentukan parameter K (jumlah tetangga terdekat) Sensitif terhadap data outlier Tingginya nilai komputasi Sensitif terhadap perbedaan rentang variabel dan dimensionalitas Sensitif terhadap dimensionalitas yang tinggi.\n",
    "\n",
    "**Tahapan metode k-Nearest Neighbor:**\n",
    "\n",
    "- Menentukan parameter k (jumlah tetangga paling dekat).\n",
    "- Menghitung kuadrat jarak eucliden objek terhadap data sample (data training) yang diberikan.\n",
    "- Mengurutkan objek-objek tersebut (hasil dari tahapan no. 2) kedalam kelompok dengan cara ascending (berurutan dari nilai tinggi ke nilai rendah).\n",
    "- Mengumpulkan kategori Y (klasifikasi nearest neighbor) berdasarkan dari nilai k dengan menggunakan kategori mayoritas,maka dapat diprediksikan nilai query instance yang telah dihitung.\n",
    "\n",
    "Pendekatan Algoritma k-Nearest Neighbor algoritma knn adalah algoritma pembelajaran instance based yang paling banyak digunakan. algoritma knn ini algoritma yang paling sederhana dari algoritma yang lain nya.\n",
    "\n",
    "Instance merupakan titik dalam ruang n-dimensi dan mendeskripsikan tetangga (neighbor) dalam hal jarak ( Euclidean dalam ruang-R) k merupakan jumlah dari tetangga terdekat (neighbor) k = 1 disebut aturan klasifikasi tetangga terdekat banyak nya jumlah k lebih baik adalah angka ganjil seperti (1, 2, 3, …), untuk menghindari adanya ikatan atau hubungan"
   ]
  },
  {
   "cell_type": "code",
   "execution_count": null,
   "id": "c358d916",
   "metadata": {},
   "outputs": [],
   "source": [
    "from sklearn.neighbors import KNeighborsRegressor\n",
    "knnr = KNeighborsRegressor(n,neighbors = 3)\n",
    "knnr.fit(x,y)\n",
    "print(\"The MSE is :\",format(np.power(y-knnr.predict(x),2).mean()))"
   ]
  },
  {
   "cell_type": "markdown",
   "id": "a4ca0946",
   "metadata": {},
   "source": [
    "# Selang Kepercayaan\n",
    "\n",
    "Selang kepercayaan (confidence interval) merupakan metode digunakan untuk memperkirakan parameter populasi berdasarkan sampel menggunakan metode statistik tertentu dalam sebuah rentang tertentu. Tujuan menggunakan interval kepercayaan adalah memiliki margin kesalahan sekecil mungkin. Semakin sempit interval, semakin akurat nilai statistik yang kita gunakan.Seperti yang kita tahu, margin of error bentuk toleransi yang mungkin terjadi dalam pengujian statistik. Pada dasarnya, sampel diambil secara acak untuk menghasilkan nilai yang dapat mewakili parameter. Tapi, pengukurannya akan berbeda jika Anda menggunakan sampel lain yang diambil secara acak. Hal ini akan menyebabkan perhitungan yang berbeda. Oleh karena itu, selang kepercayaan adalah solusi untuk memastikan bahwa statistik yang kita hasilkan akurat dalam rentang nilai tertentu (yang merupakan margin kesalahan) dan dapat menggambarkan populasi dengan baik.\n",
    "\n",
    "Ada tiga faktor yang mempengaruhi margin of error; tingkat kepercayaan, ukuran sampel dan variabilitas dalam populasi."
   ]
  },
  {
   "cell_type": "code",
   "execution_count": 5,
   "id": "440139f4",
   "metadata": {},
   "outputs": [],
   "source": [
    "import numpy as np\n",
    "from scipy import stats"
   ]
  },
  {
   "cell_type": "code",
   "execution_count": 6,
   "id": "ecec417e",
   "metadata": {},
   "outputs": [
    {
     "name": "stdout",
     "output_type": "stream",
     "text": [
      "(2.5020000000000002, 2.698)\n"
     ]
    }
   ],
   "source": [
    "a = 2.6\n",
    "b = 1.96\n",
    "c = 0.05\n",
    "\n",
    "hasil = a - b*c, a + b*c\n",
    "print(hasil)"
   ]
  }
 ],
 "metadata": {
  "kernelspec": {
   "display_name": "Python 3",
   "language": "python",
   "name": "python3"
  },
  "language_info": {
   "codemirror_mode": {
    "name": "ipython",
    "version": 3
   },
   "file_extension": ".py",
   "mimetype": "text/x-python",
   "name": "python",
   "nbconvert_exporter": "python",
   "pygments_lexer": "ipython3",
   "version": "3.8.8"
  }
 },
 "nbformat": 4,
 "nbformat_minor": 5
}
